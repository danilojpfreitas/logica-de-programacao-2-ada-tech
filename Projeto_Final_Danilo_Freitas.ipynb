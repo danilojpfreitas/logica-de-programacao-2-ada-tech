{
 "cells": [
  {
   "cell_type": "markdown",
   "metadata": {},
   "source": [
    "# Sistema de Cadastro"
   ]
  },
  {
   "cell_type": "markdown",
   "metadata": {},
   "source": [
    "### Dependência de projeto"
   ]
  },
  {
   "cell_type": "code",
   "execution_count": 231,
   "metadata": {},
   "outputs": [
    {
     "name": "stdout",
     "output_type": "stream",
     "text": [
      "Requirement already satisfied: pandas in /home/danilojpfreitas/anaconda3/lib/python3.10/site-packages (1.5.3)\r\n",
      "Requirement already satisfied: python-dateutil>=2.8.1 in /home/danilojpfreitas/.local/lib/python3.10/site-packages (from pandas) (2.8.2)\r\n",
      "Requirement already satisfied: pytz>=2020.1 in /home/danilojpfreitas/anaconda3/lib/python3.10/site-packages (from pandas) (2022.7)\r\n",
      "Requirement already satisfied: numpy>=1.21.0 in /home/danilojpfreitas/anaconda3/lib/python3.10/site-packages (from pandas) (1.23.5)\r\n",
      "Requirement already satisfied: six>=1.5 in /home/danilojpfreitas/.local/lib/python3.10/site-packages (from python-dateutil>=2.8.1->pandas) (1.16.0)\r\n"
     ]
    }
   ],
   "source": [
    "!pip install pandas"
   ]
  },
  {
   "cell_type": "code",
   "execution_count": 232,
   "metadata": {},
   "outputs": [],
   "source": [
    "import json\n",
    "import pandas as pd"
   ]
  },
  {
   "cell_type": "markdown",
   "metadata": {},
   "source": [
    "### Função - Leitura do arquivo Json"
   ]
  },
  {
   "cell_type": "code",
   "execution_count": 233,
   "metadata": {},
   "outputs": [],
   "source": [
    "def leitura_json():\n",
    "    with open('projetoModuloII.json', 'r') as file:\n",
    "        dic_project = json.load(file)\n",
    "    return dic_project"
   ]
  },
  {
   "cell_type": "markdown",
   "metadata": {},
   "source": [
    "### Função - Leitura do último id"
   ]
  },
  {
   "cell_type": "code",
   "execution_count": 234,
   "metadata": {},
   "outputs": [],
   "source": [
    "def last_id():\n",
    "    dic_project = leitura_json()\n",
    "    last_id = list(dic_project.keys())[-1]\n",
    "    return int(last_id)"
   ]
  },
  {
   "cell_type": "markdown",
   "metadata": {},
   "source": [
    "### Função - Modificar status (Nome - True, ID - False)"
   ]
  },
  {
   "cell_type": "code",
   "execution_count": 235,
   "metadata": {},
   "outputs": [],
   "source": [
    "def modificar_status_true(nome:str):   \n",
    "    df = pd.read_json('projetoModuloII.json')    \n",
    "    df_shape = df.shape[1]    \n",
    "    for i in range(df_shape):\n",
    "        i += 1\n",
    "        column = df[i]\n",
    "        line = column.iloc[1]\n",
    "        if line == nome:\n",
    "            df[i].iloc[0] = True            \n",
    "        json_data = df.to_json(force_ascii=False)\n",
    "        with open('projetoModuloII.json', 'w') as file:\n",
    "            file.write(json_data)"
   ]
  },
  {
   "cell_type": "code",
   "execution_count": 236,
   "metadata": {},
   "outputs": [],
   "source": [
    "def modificar_status_false(id:int):        \n",
    "    df = pd.read_json('projetoModuloII.json')   \n",
    "    df_shape = df.shape[1]   \n",
    "    for i in range(df_shape):\n",
    "        i += 1\n",
    "        if i == id:\n",
    "            df[i].iloc[0] = False            \n",
    "        json_data = df.to_json(force_ascii=False)\n",
    "        with open('projetoModuloII.json', 'w') as file:\n",
    "            file.write(json_data)"
   ]
  },
  {
   "cell_type": "markdown",
   "metadata": {},
   "source": [
    "### Função - Modificar Nome or Telefone or Endereço pelo ID"
   ]
  },
  {
   "cell_type": "code",
   "execution_count": 237,
   "metadata": {},
   "outputs": [],
   "source": [
    "def modificar_nome_telefone_endereco_by_id(id:int, **kwargs):    \n",
    "    df = pd.read_json('projetoModuloII.json')    \n",
    "    df_shape = df.shape[1]    \n",
    "    for item in kwargs.keys():       \n",
    "        if item == 'nome':\n",
    "            for i in range(df_shape):\n",
    "                i += 1\n",
    "                if i == id:\n",
    "                    df[i].iloc[1] = kwargs['nome']\n",
    "        elif item == 'telefone':\n",
    "            for i in range(df_shape):\n",
    "                i += 1\n",
    "                if i == id:\n",
    "                    df[i].iloc[2] = kwargs['telefone']\n",
    "        elif item == 'endereco':\n",
    "            for i in range(df_shape):\n",
    "                i += 1\n",
    "                if i == id:\n",
    "                    df[i].iloc[3] = kwargs['endereco']                    \n",
    "    json_data = df.to_json(force_ascii=False)\n",
    "    with open('projetoModuloII.json', 'w') as file:\n",
    "        file.write(json_data)"
   ]
  },
  {
   "cell_type": "markdown",
   "metadata": {},
   "source": [
    "### Função - Verificação de cadastro"
   ]
  },
  {
   "cell_type": "code",
   "execution_count": 238,
   "metadata": {},
   "outputs": [],
   "source": [
    "def verificacao_cadastro(nome:str, telefone:str, endereco:str):\n",
    "    dic_project = leitura_json()\n",
    "    verificacao = False\n",
    "    for cadastro in dic_project.values():\n",
    "        if (cadastro[\"Nome\"] == nome) and (cadastro[\"Telefone\"] == telefone) and (cadastro[\"Endereço\"] == endereco):\n",
    "            modificar_status_true(nome) \n",
    "            verificacao = True\n",
    "    return verificacao"
   ]
  },
  {
   "cell_type": "code",
   "execution_count": 239,
   "metadata": {},
   "outputs": [],
   "source": [
    "def verificacao_cadastro_id(id:int):\n",
    "    dic_project = leitura_json()\n",
    "    if str(id) in list(dic_project.keys()):\n",
    "        return True\n",
    "    return False"
   ]
  },
  {
   "cell_type": "code",
   "execution_count": 240,
   "metadata": {},
   "outputs": [],
   "source": [
    "def input_verificao_id():\n",
    "    id = input(\"Insira o ID do usuário: \")\n",
    "    verificacao_id = verificacao_cadastro_id(int(id))   \n",
    "    while verificacao_id is False:\n",
    "        print(\"---------------------\")\n",
    "        print(\"O ID digitado esta incorreto, por favor digite outro ID.\")\n",
    "        print(\"---------------------\")\n",
    "        id = input(\"Insira o ID do usuário: \")\n",
    "        verificacao_id = verificacao_cadastro_id(int(id))        \n",
    "    return id"
   ]
  },
  {
   "cell_type": "markdown",
   "metadata": {},
   "source": [
    "### Função - Cadastro no arquivo Json"
   ]
  },
  {
   "cell_type": "code",
   "execution_count": 241,
   "metadata": {},
   "outputs": [],
   "source": [
    "def gravacao_json(nome:str, telefone:str, endereco:str):\n",
    "    cadastro = verificacao_cadastro(nome, telefone, endereco)\n",
    "    if cadastro == False:\n",
    "        id = last_id() + 1        \n",
    "        df = pd.read_json('projetoModuloII.json')\n",
    "        df[f'{id}'] = [True, nome, telefone, endereco]\n",
    "        json_data = df.to_json(force_ascii=False)\n",
    "        with open('projetoModuloII.json', 'w') as file:\n",
    "            file.write(json_data)\n",
    "    else:\n",
    "        return print(\"Já cadastrado!\")"
   ]
  },
  {
   "cell_type": "markdown",
   "metadata": {},
   "source": [
    "### Função - Inserir usuário"
   ]
  },
  {
   "cell_type": "code",
   "execution_count": 242,
   "metadata": {},
   "outputs": [],
   "source": [
    "def add_usuario():\n",
    "    nome = input(\"Qual o nome do usuário: \")   \n",
    "    while nome == \"\":\n",
    "        print(\"---------------------\")\n",
    "        print(\"O nome é obrigatorio para o cadastro no sistema, por favor informe o nome abaixo.\")\n",
    "        print(\"---------------------\")\n",
    "        nome = input(\"Qual o nome do usuário: \")\n",
    "        \n",
    "    telefone = input(\"Qual o telefone do usuário: \")\n",
    "    endereco = input(\"Qual o  endereço do usuário: \")\n",
    "\n",
    "    if telefone == \"\":\n",
    "        telefone = \"Não informado\"\n",
    "    elif endereco == \"\":\n",
    "        endereco = \"Não informado\"\n",
    "    \n",
    "    gravacao_json(nome, telefone, endereco)"
   ]
  },
  {
   "cell_type": "markdown",
   "metadata": {},
   "source": [
    "### Função - Excluir usuário"
   ]
  },
  {
   "cell_type": "code",
   "execution_count": 243,
   "metadata": {},
   "outputs": [],
   "source": [
    "def excluir_usuario():\n",
    "    nome = input(\"Qual o nome do usuário que você deseja excluir: \")\n",
    "    telefone = input(\"Qual o telefone do usuário que você deseja excluir: \")\n",
    "    endereco = input(\"Qual o endereço do usuário que você deseja excluir: \")\n",
    "    verificacao = verificacao_cadastro(nome, telefone, endereco)    \n",
    "    if verificacao == False:\n",
    "        return print(\"Usuário não encontrado!\")\n",
    "    elif verificacao == True:\n",
    "        id = int(input(\"Insira o ID do usuário: \"))       \n",
    "        modificar_status_false(id)\n",
    "        return print(\"Usuário excluído!\")"
   ]
  },
  {
   "cell_type": "markdown",
   "metadata": {},
   "source": [
    "### Função - Atualizar usuário"
   ]
  },
  {
   "cell_type": "code",
   "execution_count": 244,
   "metadata": {},
   "outputs": [],
   "source": [
    "def edit_usuario():\n",
    "    id = input_verificao_id()\n",
    "    informacao = input(\"Qual a informação deseja alterar? \\n1 - Nome\\n2 - Telefone\\n3 - Endereço\\n\")\n",
    "    \n",
    "    if informacao == \"1\":\n",
    "        nome_1 = input(\"Insira o nome: \")\n",
    "        modificar_nome_telefone_endereco_by_id(int(id), nome=nome_1)        \n",
    "    elif informacao == \"2\":\n",
    "        telefone_2 = input(\"Insira o telefone: \")\n",
    "        modificar_nome_telefone_endereco_by_id(int(id), telefone=telefone_2)\n",
    "    elif informacao == \"3\":\n",
    "        endereco_3 = input(\"Insira o endereço: \")\n",
    "        modificar_nome_telefone_endereco_by_id(int(id), endereco=endereco_3)    "
   ]
  },
  {
   "cell_type": "markdown",
   "metadata": {},
   "source": [
    "### Função - Exibir informações de um usuário"
   ]
  },
  {
   "cell_type": "code",
   "execution_count": 245,
   "metadata": {},
   "outputs": [],
   "source": [
    "def exibir_usuario():\n",
    "    id = input_verificao_id()   \n",
    "    dados = leitura_json()[id]\n",
    "    dados_resposta = f\"Nome: {dados['Nome']}\\nTelefone: {dados['Telefone']}\\nEndereço: {dados['Endereço']}\"\n",
    "    return print(dados_resposta)"
   ]
  },
  {
   "cell_type": "markdown",
   "metadata": {},
   "source": [
    "### Função - Exibir informações de todos os usuários"
   ]
  },
  {
   "cell_type": "code",
   "execution_count": 246,
   "metadata": {},
   "outputs": [],
   "source": [
    "def exibir_todos_usuarios():\n",
    "    dados = leitura_json()    \n",
    "    for key, usuario in dados.items(): \n",
    "        if usuario['Status'] is True:\n",
    "            dados_resposta = f\"ID: {key}\\nNome: {usuario['Nome']}\\nTelefone: {usuario['Telefone']}\\nEndereço: {usuario['Endereço']}\\n\"\n",
    "            print(dados_resposta)"
   ]
  },
  {
   "cell_type": "markdown",
   "metadata": {},
   "source": [
    "### Função Geral (Main)"
   ]
  },
  {
   "cell_type": "code",
   "execution_count": 247,
   "metadata": {},
   "outputs": [],
   "source": [
    "def main():\n",
    "    programa = True\n",
    "    while programa == True:\n",
    "        opcao = int(input(\"Bem vindo ao nosso sistema, selecione a opção desejada:\\n\\n1 - Inserir usuário\\n2 - Excluir usuário\\n3 - Atualizar usuário\\n4 - Informações de um usuário\\n5 - Informações de todos os usuários\\n6 - Sair\\n\"))    \n",
    "        if opcao not in [1,2,3,4,5,6]:\n",
    "            print(\"Selecione a opção correta!\")\n",
    "            opcao = int(input(\"Bem vindo ao nosso sistema, selecione a opção desejada:\\n\\n1 - Inserir usuário\\n2 - Excluir usuário\\n3 - Atualizar usuário\\n4 - Informações de um usuário\\n5 - Informações de todos os usuários\\n6 - Sair\\n\"))   \n",
    "        elif opcao in [1, 2, 3, 4]:\n",
    "            opcao_dic = {1: \"adicionar\", 2: \"excluir\", 3: \"atualizar\", 4: \"exibir\"}\n",
    "            deseja_continuar = True\n",
    "            while deseja_continuar == True:\n",
    "                if opcao == 1:\n",
    "                    add_usuario()\n",
    "                elif opcao == 2:\n",
    "                    excluir_usuario()\n",
    "                elif opcao == 3:\n",
    "                    edit_usuario()\n",
    "                elif opcao == 4:\n",
    "                    exibir_usuario()\n",
    "                stop = int(input(f\"Deseja {opcao_dic[opcao]} outro usuário:\\n1 - Sim\\n2 - Não\\n\"))\n",
    "                if stop == 2:\n",
    "                    deseja_continuar = False\n",
    "        elif opcao == 5:\n",
    "            exibir_todos_usuarios()\n",
    "        elif opcao == 6:\n",
    "            programa = False\n",
    "            print(\"Programa Encerrado\")       "
   ]
  },
  {
   "cell_type": "code",
   "execution_count": 248,
   "metadata": {},
   "outputs": [
    {
     "name": "stdout",
     "output_type": "stream",
     "text": [
      "Bem vindo ao nosso sistema, selecione a opção desejada:\n",
      "\n",
      "1 - Inserir usuário\n",
      "2 - Excluir usuário\n",
      "3 - Atualizar usuário\n",
      "4 - Informações de um usuário\n",
      "5 - Informações de todos os usuários\n",
      "6 - Sair\n",
      "1\n",
      "Qual o nome do usuário: Daiane\n",
      "Qual o telefone do usuário: \n",
      "Qual o  endereço do usuário: \n",
      "Deseja adicionar outro usuário:\n",
      "1 - Sim\n",
      "2 - Não\n",
      "2\n",
      "Bem vindo ao nosso sistema, selecione a opção desejada:\n",
      "\n",
      "1 - Inserir usuário\n",
      "2 - Excluir usuário\n",
      "3 - Atualizar usuário\n",
      "4 - Informações de um usuário\n",
      "5 - Informações de todos os usuários\n",
      "6 - Sair\n",
      "5\n",
      "ID: 1\n",
      "Nome: Danilo\n",
      "Telefone: 1234\n",
      "Endereço: Rua AL\n",
      "\n",
      "ID: 2\n",
      "Nome: Sebastião\n",
      "Telefone: 23546312\n",
      "Endereço: Modulo II\n",
      "\n",
      "ID: 3\n",
      "Nome: João\n",
      "Telefone: 45786327\n",
      "Endereço: Rua Arroxelas\n",
      "\n",
      "ID: 10\n",
      "Nome: Daiane\n",
      "Telefone: Não informado\n",
      "Endereço: \n",
      "\n",
      "Bem vindo ao nosso sistema, selecione a opção desejada:\n",
      "\n",
      "1 - Inserir usuário\n",
      "2 - Excluir usuário\n",
      "3 - Atualizar usuário\n",
      "4 - Informações de um usuário\n",
      "5 - Informações de todos os usuários\n",
      "6 - Sair\n",
      "5\n",
      "ID: 1\n",
      "Nome: Danilo\n",
      "Telefone: 1234\n",
      "Endereço: Rua AL\n",
      "\n",
      "ID: 2\n",
      "Nome: Sebastião\n",
      "Telefone: 23546312\n",
      "Endereço: Modulo II\n",
      "\n",
      "ID: 3\n",
      "Nome: João\n",
      "Telefone: 45786327\n",
      "Endereço: Rua Arroxelas\n",
      "\n",
      "ID: 10\n",
      "Nome: Daiane\n",
      "Telefone: Não informado\n",
      "Endereço: \n",
      "\n",
      "Bem vindo ao nosso sistema, selecione a opção desejada:\n",
      "\n",
      "1 - Inserir usuário\n",
      "2 - Excluir usuário\n",
      "3 - Atualizar usuário\n",
      "4 - Informações de um usuário\n",
      "5 - Informações de todos os usuários\n",
      "6 - Sair\n",
      "4\n",
      "Insira o ID do usuário: 10\n",
      "Nome: Daiane\n",
      "Telefone: Não informado\n",
      "Endereço: \n",
      "Deseja exibir outro usuário:\n",
      "1 - Sim\n",
      "2 - Não\n",
      "2\n",
      "Bem vindo ao nosso sistema, selecione a opção desejada:\n",
      "\n",
      "1 - Inserir usuário\n",
      "2 - Excluir usuário\n",
      "3 - Atualizar usuário\n",
      "4 - Informações de um usuário\n",
      "5 - Informações de todos os usuários\n",
      "6 - Sair\n",
      "3\n",
      "Insira o ID do usuário: 10\n",
      "Qual a informação deseja alterar? \n",
      "1 - Nome\n",
      "2 - Telefone\n",
      "3 - Endereço\n",
      "3\n",
      "Insira o endereço: Rua Floripa\n",
      "Deseja atualizar outro usuário:\n",
      "1 - Sim\n",
      "2 - Não\n",
      "2\n",
      "Bem vindo ao nosso sistema, selecione a opção desejada:\n",
      "\n",
      "1 - Inserir usuário\n",
      "2 - Excluir usuário\n",
      "3 - Atualizar usuário\n",
      "4 - Informações de um usuário\n",
      "5 - Informações de todos os usuários\n",
      "6 - Sair\n",
      "5\n",
      "ID: 1\n",
      "Nome: Danilo\n",
      "Telefone: 1234\n",
      "Endereço: Rua AL\n",
      "\n",
      "ID: 2\n",
      "Nome: Sebastião\n",
      "Telefone: 23546312\n",
      "Endereço: Modulo II\n",
      "\n",
      "ID: 3\n",
      "Nome: João\n",
      "Telefone: 45786327\n",
      "Endereço: Rua Arroxelas\n",
      "\n",
      "ID: 10\n",
      "Nome: Daiane\n",
      "Telefone: Não informado\n",
      "Endereço: Rua Floripa\n",
      "\n",
      "Bem vindo ao nosso sistema, selecione a opção desejada:\n",
      "\n",
      "1 - Inserir usuário\n",
      "2 - Excluir usuário\n",
      "3 - Atualizar usuário\n",
      "4 - Informações de um usuário\n",
      "5 - Informações de todos os usuários\n",
      "6 - Sair\n",
      "3\n",
      "Insira o ID do usuário: 10\n",
      "Qual a informação deseja alterar? \n",
      "1 - Nome\n",
      "2 - Telefone\n",
      "3 - Endereço\n",
      "1\n",
      "Insira o nome: Ana\n",
      "Deseja atualizar outro usuário:\n",
      "1 - Sim\n",
      "2 - Não\n",
      "2\n",
      "Bem vindo ao nosso sistema, selecione a opção desejada:\n",
      "\n",
      "1 - Inserir usuário\n",
      "2 - Excluir usuário\n",
      "3 - Atualizar usuário\n",
      "4 - Informações de um usuário\n",
      "5 - Informações de todos os usuários\n",
      "6 - Sair\n",
      "4\n",
      "Insira o ID do usuário: 10\n",
      "Nome: Ana\n",
      "Telefone: Não informado\n",
      "Endereço: Rua Floripa\n",
      "Deseja exibir outro usuário:\n",
      "1 - Sim\n",
      "2 - Não\n",
      "2\n",
      "Bem vindo ao nosso sistema, selecione a opção desejada:\n",
      "\n",
      "1 - Inserir usuário\n",
      "2 - Excluir usuário\n",
      "3 - Atualizar usuário\n",
      "4 - Informações de um usuário\n",
      "5 - Informações de todos os usuários\n",
      "6 - Sair\n",
      "6\n",
      "Programa Encerrado\n"
     ]
    }
   ],
   "source": [
    "main()"
   ]
  }
 ],
 "metadata": {
  "kernelspec": {
   "display_name": "Python 3 (ipykernel)",
   "language": "python",
   "name": "python3"
  },
  "language_info": {
   "codemirror_mode": {
    "name": "ipython",
    "version": 3
   },
   "file_extension": ".py",
   "mimetype": "text/x-python",
   "name": "python",
   "nbconvert_exporter": "python",
   "pygments_lexer": "ipython3",
   "version": "3.10.9"
  }
 },
 "nbformat": 4,
 "nbformat_minor": 2
}
