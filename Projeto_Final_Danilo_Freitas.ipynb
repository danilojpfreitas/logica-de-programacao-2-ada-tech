{
 "cells": [
  {
   "cell_type": "markdown",
   "metadata": {},
   "source": [
    "# Sistema de Cadastro"
   ]
  },
  {
   "cell_type": "markdown",
   "metadata": {},
   "source": [
    "### Dependência de projeto"
   ]
  },
  {
   "cell_type": "code",
   "execution_count": 1,
   "metadata": {},
   "outputs": [
    {
     "name": "stdout",
     "output_type": "stream",
     "text": [
      "Requirement already satisfied: pandas in /home/danilojpfreitas/anaconda3/lib/python3.10/site-packages (1.5.3)\r\n",
      "Requirement already satisfied: python-dateutil>=2.8.1 in /home/danilojpfreitas/.local/lib/python3.10/site-packages (from pandas) (2.8.2)\r\n",
      "Requirement already satisfied: pytz>=2020.1 in /home/danilojpfreitas/anaconda3/lib/python3.10/site-packages (from pandas) (2022.7)\r\n",
      "Requirement already satisfied: numpy>=1.21.0 in /home/danilojpfreitas/anaconda3/lib/python3.10/site-packages (from pandas) (1.23.5)\r\n",
      "Requirement already satisfied: six>=1.5 in /home/danilojpfreitas/.local/lib/python3.10/site-packages (from python-dateutil>=2.8.1->pandas) (1.16.0)\r\n"
     ]
    }
   ],
   "source": [
    "!pip install pandas"
   ]
  },
  {
   "cell_type": "code",
   "execution_count": 21,
   "metadata": {},
   "outputs": [],
   "source": [
    "import json\n",
    "import pandas as pd"
   ]
  },
  {
   "cell_type": "markdown",
   "metadata": {},
   "source": [
    "### Função - Leitura do arquivo Json"
   ]
  },
  {
   "cell_type": "code",
   "execution_count": 8,
   "metadata": {},
   "outputs": [],
   "source": [
    "def leitura_json():\n",
    "    with open('projetoModuloII.json', 'r') as file:\n",
    "        dic_project = json.load(file)\n",
    "    \n",
    "    return dic_project"
   ]
  },
  {
   "cell_type": "code",
   "execution_count": 9,
   "metadata": {},
   "outputs": [
    {
     "data": {
      "text/plain": [
       "{'1': {'Status': False,\n",
       "  'Nome': 'Henrique',\n",
       "  'Telefone': '78774123',\n",
       "  'Endereço': 'Rua do Python'},\n",
       " '2': {'Status': True,\n",
       "  'Nome': 'Sebastião',\n",
       "  'Telefone': '23546312',\n",
       "  'Endereço': 'Modulo II'},\n",
       " '3': {'Status': True,\n",
       "  'Nome': 'João',\n",
       "  'Telefone': '45786327',\n",
       "  'Endereço': 'Av. Faria Lima'},\n",
       " '4': {'Status': False,\n",
       "  'Nome': 'Maria',\n",
       "  'Telefone': '74125823',\n",
       "  'Endereço': 'Av. Paulista'},\n",
       " '5': {'Status': False,\n",
       "  'Nome': 'Juliana',\n",
       "  'Telefone': '41230578',\n",
       "  'Endereço': 'Rua das Flores'}}"
      ]
     },
     "execution_count": 9,
     "metadata": {},
     "output_type": "execute_result"
    }
   ],
   "source": [
    "leitura_json()"
   ]
  },
  {
   "cell_type": "markdown",
   "metadata": {},
   "source": [
    "### Função - Leitura do último id"
   ]
  },
  {
   "cell_type": "code",
   "execution_count": 10,
   "metadata": {},
   "outputs": [],
   "source": [
    "def last_id():\n",
    "    dic_project = leitura_json()\n",
    "    last_id = list(dic_project.keys())[-1]\n",
    "    return int(last_id)"
   ]
  },
  {
   "cell_type": "markdown",
   "metadata": {},
   "source": [
    "### Função - Verificação de cadastro"
   ]
  },
  {
   "cell_type": "code",
   "execution_count": 185,
   "metadata": {},
   "outputs": [],
   "source": [
    "def modificar_status(nome):\n",
    "    \n",
    "    df = pd.read_json('projetoModuloII.json')\n",
    "    \n",
    "    df_shape = df.shape[1]\n",
    "    \n",
    "    for i in range(df_shape):\n",
    "        i += 1\n",
    "        column = df[i]\n",
    "        line = column.iloc[1]\n",
    "        if line == nome:\n",
    "            df[i].iloc[0] = True\n",
    "            \n",
    "        json_data = df.to_json(force_ascii=False)\n",
    "\n",
    "        with open('projetoModuloII.json', 'w') as file:\n",
    "            file.write(json_data)"
   ]
  },
  {
   "cell_type": "code",
   "execution_count": 186,
   "metadata": {},
   "outputs": [],
   "source": [
    "def verificacao_cadastro(nome, telefone, endereco):\n",
    "    dic_project = leitura_json()\n",
    "    verificacao = False\n",
    "\n",
    "    for cadastro in dic_project.values():\n",
    "        if (cadastro[\"Nome\"] == nome) and (cadastro[\"Telefone\"] == telefone) and (cadastro[\"Endereço\"] == endereco):\n",
    "            modificar_status(nome) \n",
    "            verificacao = True\n",
    "\n",
    "    return verificacao"
   ]
  },
  {
   "cell_type": "markdown",
   "metadata": {},
   "source": [
    "### Função - Cadastro no arquivo Json"
   ]
  },
  {
   "cell_type": "code",
   "execution_count": 191,
   "metadata": {},
   "outputs": [],
   "source": [
    "def gravacao_json(status, nome, telefone, endereco):\n",
    "    cadastro = verificacao_cadastro(nome, telefone, endereco)\n",
    "    if cadastro == False:\n",
    "        id = last_id() + 1\n",
    "        df = pd.read_json('projetoModuloII.json')\n",
    "        df[f'{id}'] = [status, nome, telefone, endereco]\n",
    "\n",
    "        json_data = df.to_json(force_ascii=False)\n",
    "\n",
    "        with open('projetoModuloII.json', 'w') as file:\n",
    "            file.write(json_data)\n",
    "    else:\n",
    "        return \"Já cadastrado!\""
   ]
  },
  {
   "cell_type": "code",
   "execution_count": 192,
   "metadata": {},
   "outputs": [
    {
     "data": {
      "text/plain": [
       "'Já cadastrado!'"
      ]
     },
     "execution_count": 192,
     "metadata": {},
     "output_type": "execute_result"
    }
   ],
   "source": [
    "gravacao_json(True, 'Luciano', '32310971', 'Rua Prefeito Abdon Arroxelas')\n"
   ]
  },
  {
   "cell_type": "markdown",
   "metadata": {},
   "source": [
    "### Função - Inserir usuário"
   ]
  },
  {
   "cell_type": "code",
   "execution_count": 35,
   "metadata": {},
   "outputs": [
    {
     "ename": "SyntaxError",
     "evalue": "incomplete input (1309800647.py, line 1)",
     "output_type": "error",
     "traceback": [
      "\u001b[0;36m  Cell \u001b[0;32mIn[35], line 1\u001b[0;36m\u001b[0m\n\u001b[0;31m    def inserir_usuario(nome, telefone, endereco):\u001b[0m\n\u001b[0m                                                  ^\u001b[0m\n\u001b[0;31mSyntaxError\u001b[0m\u001b[0;31m:\u001b[0m incomplete input\n"
     ]
    }
   ],
   "source": [
    "def inserir_usuario(nome, telefone, endereco, **kargs):\n",
    "    last_id = last_id()\n",
    "    status = True\n",
    "\n"
   ]
  },
  {
   "cell_type": "code",
   "execution_count": null,
   "metadata": {},
   "outputs": [],
   "source": []
  }
 ],
 "metadata": {
  "kernelspec": {
   "display_name": "Python 3 (ipykernel)",
   "language": "python",
   "name": "python3"
  },
  "language_info": {
   "codemirror_mode": {
    "name": "ipython",
    "version": 3
   },
   "file_extension": ".py",
   "mimetype": "text/x-python",
   "name": "python",
   "nbconvert_exporter": "python",
   "pygments_lexer": "ipython3",
   "version": "3.10.9"
  }
 },
 "nbformat": 4,
 "nbformat_minor": 2
}
